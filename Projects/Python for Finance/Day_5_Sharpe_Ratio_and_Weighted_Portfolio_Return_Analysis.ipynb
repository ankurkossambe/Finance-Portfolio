{
  "nbformat": 4,
  "nbformat_minor": 0,
  "metadata": {
    "colab": {
      "provenance": []
    },
    "kernelspec": {
      "name": "python3",
      "display_name": "Python 3"
    },
    "language_info": {
      "name": "python"
    }
  },
  "cells": [
    {
      "cell_type": "code",
      "execution_count": 2,
      "metadata": {
        "colab": {
          "base_uri": "https://localhost:8080/"
        },
        "id": "7LkePz46WjoQ",
        "outputId": "70146ebf-6b0b-4c8c-e5a5-cb956b668377"
      },
      "outputs": [
        {
          "output_type": "stream",
          "name": "stdout",
          "text": [
            "Requirement already satisfied: yfinance in /usr/local/lib/python3.11/dist-packages (0.2.64)\n",
            "Requirement already satisfied: pandas>=1.3.0 in /usr/local/lib/python3.11/dist-packages (from yfinance) (2.2.2)\n",
            "Requirement already satisfied: numpy>=1.16.5 in /usr/local/lib/python3.11/dist-packages (from yfinance) (2.0.2)\n",
            "Requirement already satisfied: requests>=2.31 in /usr/local/lib/python3.11/dist-packages (from yfinance) (2.32.3)\n",
            "Requirement already satisfied: multitasking>=0.0.7 in /usr/local/lib/python3.11/dist-packages (from yfinance) (0.0.11)\n",
            "Requirement already satisfied: platformdirs>=2.0.0 in /usr/local/lib/python3.11/dist-packages (from yfinance) (4.3.8)\n",
            "Requirement already satisfied: pytz>=2022.5 in /usr/local/lib/python3.11/dist-packages (from yfinance) (2025.2)\n",
            "Requirement already satisfied: frozendict>=2.3.4 in /usr/local/lib/python3.11/dist-packages (from yfinance) (2.4.6)\n",
            "Requirement already satisfied: peewee>=3.16.2 in /usr/local/lib/python3.11/dist-packages (from yfinance) (3.18.1)\n",
            "Requirement already satisfied: beautifulsoup4>=4.11.1 in /usr/local/lib/python3.11/dist-packages (from yfinance) (4.13.4)\n",
            "Requirement already satisfied: curl_cffi>=0.7 in /usr/local/lib/python3.11/dist-packages (from yfinance) (0.11.4)\n",
            "Requirement already satisfied: protobuf>=3.19.0 in /usr/local/lib/python3.11/dist-packages (from yfinance) (5.29.5)\n",
            "Requirement already satisfied: websockets>=13.0 in /usr/local/lib/python3.11/dist-packages (from yfinance) (15.0.1)\n",
            "Requirement already satisfied: soupsieve>1.2 in /usr/local/lib/python3.11/dist-packages (from beautifulsoup4>=4.11.1->yfinance) (2.7)\n",
            "Requirement already satisfied: typing-extensions>=4.0.0 in /usr/local/lib/python3.11/dist-packages (from beautifulsoup4>=4.11.1->yfinance) (4.14.0)\n",
            "Requirement already satisfied: cffi>=1.12.0 in /usr/local/lib/python3.11/dist-packages (from curl_cffi>=0.7->yfinance) (1.17.1)\n",
            "Requirement already satisfied: certifi>=2024.2.2 in /usr/local/lib/python3.11/dist-packages (from curl_cffi>=0.7->yfinance) (2025.6.15)\n",
            "Requirement already satisfied: python-dateutil>=2.8.2 in /usr/local/lib/python3.11/dist-packages (from pandas>=1.3.0->yfinance) (2.9.0.post0)\n",
            "Requirement already satisfied: tzdata>=2022.7 in /usr/local/lib/python3.11/dist-packages (from pandas>=1.3.0->yfinance) (2025.2)\n",
            "Requirement already satisfied: charset-normalizer<4,>=2 in /usr/local/lib/python3.11/dist-packages (from requests>=2.31->yfinance) (3.4.2)\n",
            "Requirement already satisfied: idna<4,>=2.5 in /usr/local/lib/python3.11/dist-packages (from requests>=2.31->yfinance) (3.10)\n",
            "Requirement already satisfied: urllib3<3,>=1.21.1 in /usr/local/lib/python3.11/dist-packages (from requests>=2.31->yfinance) (2.4.0)\n",
            "Requirement already satisfied: pycparser in /usr/local/lib/python3.11/dist-packages (from cffi>=1.12.0->curl_cffi>=0.7->yfinance) (2.22)\n",
            "Requirement already satisfied: six>=1.5 in /usr/local/lib/python3.11/dist-packages (from python-dateutil>=2.8.2->pandas>=1.3.0->yfinance) (1.17.0)\n"
          ]
        },
        {
          "output_type": "stream",
          "name": "stderr",
          "text": [
            "/tmp/ipython-input-2-1129558071.py:67: FutureWarning: The behavior of DataFrame concatenation with empty or all-NA entries is deprecated. In a future version, this will no longer exclude empty or all-NA columns when determining the result dtypes. To retain the old behavior, exclude the relevant entries before the concat operation.\n",
            "  summary = pd.concat([summary, row], ignore_index=True)\n"
          ]
        },
        {
          "output_type": "stream",
          "name": "stdout",
          "text": [
            "Portfolio Summary:\n",
            "         Stock Investment (INR)  Return (%)  Volatility (%)  Sharpe Ratio\n",
            "0       TCS.NS            50000      -12.44           21.70         -0.05\n",
            "1      INFY.NS            30000        5.15           25.37         -0.00\n",
            "2  HDFCBANK.NS            20000       17.22           19.02          0.04\n",
            "\n",
            "Total Investment: ₹ 100000\n",
            "Weighted Portfolio Return: -1.23 %\n",
            "Portfolio Volatility: 13.79 %\n",
            "\n",
            "Exported summary to Day5_Portfolio_Sharpe_Summary.csv\n"
          ]
        }
      ],
      "source": [
        "# Day 5: Sharpe Ratio and Weighted Portfolio Return Analysis\n",
        "\n",
        "# Install yfinance if not already installed\n",
        "!pip install yfinance\n",
        "\n",
        "# Import necessary libraries\n",
        "import yfinance as yf\n",
        "import pandas as pd\n",
        "import numpy as np\n",
        "import matplotlib.pyplot as plt\n",
        "\n",
        "# Define portfolio with investment amounts in INR\n",
        "portfolio = {\n",
        "    \"TCS.NS\": 50000,\n",
        "    \"INFY.NS\": 30000,\n",
        "    \"HDFCBANK.NS\": 20000\n",
        "}\n",
        "\n",
        "# Create empty DataFrame to store results\n",
        "summary = pd.DataFrame(columns=[\"Stock\", \"Investment (INR)\", \"Return (%)\", \"Volatility (%)\", \"Sharpe Ratio\"])\n",
        "\n",
        "# Risk-free rate (example: 6% annual = approx 0.00024 per day)\n",
        "risk_free_rate_daily = 0.06 / 252\n",
        "\n",
        "# Total capital invested (used for weights)\n",
        "total_investment = sum(portfolio.values())\n",
        "\n",
        "# Initialize weighted stats\n",
        "weighted_returns = 0\n",
        "weighted_volatility = 0\n",
        "\n",
        "# Loop through each stock in the portfolio\n",
        "for ticker, investment in portfolio.items():\n",
        "    stock = yf.Ticker(ticker)\n",
        "    data = stock.history(period=\"1y\")\n",
        "\n",
        "    # Calculate daily return\n",
        "    data[\"Daily Return\"] = data[\"Close\"].pct_change()\n",
        "\n",
        "    # Average daily return and standard deviation\n",
        "    avg_daily_return = data[\"Daily Return\"].mean()\n",
        "    std_dev = data[\"Daily Return\"].std()\n",
        "\n",
        "    # Sharpe Ratio = (Return - Risk-Free Rate) / Volatility\n",
        "    sharpe_ratio = (avg_daily_return - risk_free_rate_daily) / std_dev\n",
        "\n",
        "    # Annualize return and volatility\n",
        "    annual_return = avg_daily_return * 252 * 100\n",
        "    annual_volatility = std_dev * np.sqrt(252) * 100\n",
        "\n",
        "    # Weight of the stock in portfolio\n",
        "    weight = investment / total_investment\n",
        "\n",
        "    # Weighted return and volatility (variance contribution)\n",
        "    weighted_returns += weight * annual_return\n",
        "    weighted_volatility += (weight * annual_volatility) ** 2\n",
        "\n",
        "    # Append row to summary DataFrame\n",
        "    row = pd.DataFrame([{\n",
        "        \"Stock\": ticker,\n",
        "        \"Investment (INR)\": investment,\n",
        "        \"Return (%)\": round(annual_return, 2),\n",
        "        \"Volatility (%)\": round(annual_volatility, 2),\n",
        "        \"Sharpe Ratio\": round(sharpe_ratio, 2)\n",
        "    }])\n",
        "\n",
        "    summary = pd.concat([summary, row], ignore_index=True)\n",
        "\n",
        "# Final portfolio stats\n",
        "portfolio_volatility = round(np.sqrt(weighted_volatility), 2)\n",
        "portfolio_return = round(weighted_returns, 2)\n",
        "\n",
        "# Print summary\n",
        "print(\"Portfolio Summary:\")\n",
        "print(summary)\n",
        "print(\"\\nTotal Investment: ₹\", total_investment)\n",
        "print(\"Weighted Portfolio Return:\", portfolio_return, \"%\")\n",
        "print(\"Portfolio Volatility:\", portfolio_volatility, \"%\")\n",
        "\n",
        "# Export to CSV\n",
        "summary.to_csv(\"Day5_Portfolio_Sharpe_Summary.csv\", index=False)\n",
        "print(\"\\nExported summary to Day5_Portfolio_Sharpe_Summary.csv\")"
      ]
    }
  ]
}