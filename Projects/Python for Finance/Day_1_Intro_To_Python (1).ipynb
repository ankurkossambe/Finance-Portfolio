{
  "nbformat": 4,
  "nbformat_minor": 0,
  "metadata": {
    "colab": {
      "provenance": []
    },
    "kernelspec": {
      "name": "python3",
      "display_name": "Python 3"
    },
    "language_info": {
      "name": "python"
    }
  },
  "cells": [
    {
      "cell_type": "code",
      "execution_count": 4,
      "metadata": {
        "id": "mXdqg8K2BtDf",
        "outputId": "6053d240-5211-47a7-b33d-03b39b22d7d8",
        "colab": {
          "base_uri": "https://localhost:8080/"
        }
      },
      "outputs": [
        {
          "output_type": "stream",
          "name": "stdout",
          "text": [
            "Addition: 15\n",
            "Subtraction: 5\n",
            "Multiplication: 50\n",
            "Division: 2.0\n",
            "Name: Ankur\n",
            "CFA Candidate: True\n",
            "Revenue: 150000.0\n",
            "Years: 5\n",
            "Future Value of ₹100,000 after 5 years at 8% growth = 146932.80768000006\n"
          ]
        }
      ],
      "source": [
        "# Day 1: Introduction to Python for Finance\n",
        "\n",
        "# -----------------------------\n",
        "# Basic Math Operations\n",
        "# -----------------------------\n",
        "\n",
        "a = 10\n",
        "b = 5\n",
        "\n",
        "print(\"Addition:\", a + b)\n",
        "print(\"Subtraction:\", a - b)\n",
        "print(\"Multiplication:\", a * b)\n",
        "print(\"Division:\", a / b)\n",
        "\n",
        "# -----------------------------\n",
        "# Variables and Data Types\n",
        "# -----------------------------\n",
        "\n",
        "name = \"Ankur\"\n",
        "is_cfa_candidate = True\n",
        "revenue = 150000.0\n",
        "years = 5\n",
        "\n",
        "print(\"Name:\", name)\n",
        "print(\"CFA Candidate:\", is_cfa_candidate)\n",
        "print(\"Revenue:\", revenue)\n",
        "print(\"Years:\", years)\n",
        "\n",
        "# -----------------------------\n",
        "# Create a Simple Function\n",
        "# -----------------------------\n",
        "\n",
        "def calculate_future_value(cashflow, growth_rate, years):\n",
        "    return cashflow * ((1 + growth_rate) ** years)\n",
        "\n",
        "result = calculate_future_value(100000, 0.08, 5)\n",
        "print(\"Future Value of ₹100,000 after 5 years at 8% growth =\", result)\n",
        "\n",
        "# -----------------------------\n",
        "# Practice Task (Optional)\n",
        "# -----------------------------\n",
        "# Try changing the values and run the future value calculation again\n",
        "# Example: calculate_future_value(200000, 0.06, 10)"
      ]
    },
    {
      "cell_type": "code",
      "source": [],
      "metadata": {
        "id": "hEDV2qvBHHtr"
      },
      "execution_count": 4,
      "outputs": []
    },
    {
      "cell_type": "code",
      "source": [],
      "metadata": {
        "id": "FJP3TWtqGDo8"
      },
      "execution_count": 4,
      "outputs": []
    }
  ]
}