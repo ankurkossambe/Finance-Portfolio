{
  "nbformat": 4,
  "nbformat_minor": 0,
  "metadata": {
    "colab": {
      "provenance": []
    },
    "kernelspec": {
      "name": "python3",
      "display_name": "Python 3"
    },
    "language_info": {
      "name": "python"
    }
  },
  "cells": [
    {
      "cell_type": "code",
      "execution_count": 1,
      "metadata": {
        "colab": {
          "base_uri": "https://localhost:8080/"
        },
        "id": "_rjFPktxdjL-",
        "outputId": "2e30343a-ee1d-4ea4-a49a-34ba874a2774"
      },
      "outputs": [
        {
          "output_type": "stream",
          "name": "stdout",
          "text": [
            "Requirement already satisfied: yfinance in /usr/local/lib/python3.11/dist-packages (0.2.64)\n",
            "Requirement already satisfied: pandas>=1.3.0 in /usr/local/lib/python3.11/dist-packages (from yfinance) (2.2.2)\n",
            "Requirement already satisfied: numpy>=1.16.5 in /usr/local/lib/python3.11/dist-packages (from yfinance) (2.0.2)\n",
            "Requirement already satisfied: requests>=2.31 in /usr/local/lib/python3.11/dist-packages (from yfinance) (2.32.3)\n",
            "Requirement already satisfied: multitasking>=0.0.7 in /usr/local/lib/python3.11/dist-packages (from yfinance) (0.0.11)\n",
            "Requirement already satisfied: platformdirs>=2.0.0 in /usr/local/lib/python3.11/dist-packages (from yfinance) (4.3.8)\n",
            "Requirement already satisfied: pytz>=2022.5 in /usr/local/lib/python3.11/dist-packages (from yfinance) (2025.2)\n",
            "Requirement already satisfied: frozendict>=2.3.4 in /usr/local/lib/python3.11/dist-packages (from yfinance) (2.4.6)\n",
            "Requirement already satisfied: peewee>=3.16.2 in /usr/local/lib/python3.11/dist-packages (from yfinance) (3.18.1)\n",
            "Requirement already satisfied: beautifulsoup4>=4.11.1 in /usr/local/lib/python3.11/dist-packages (from yfinance) (4.13.4)\n",
            "Requirement already satisfied: curl_cffi>=0.7 in /usr/local/lib/python3.11/dist-packages (from yfinance) (0.11.4)\n",
            "Requirement already satisfied: protobuf>=3.19.0 in /usr/local/lib/python3.11/dist-packages (from yfinance) (5.29.5)\n",
            "Requirement already satisfied: websockets>=13.0 in /usr/local/lib/python3.11/dist-packages (from yfinance) (15.0.1)\n",
            "Requirement already satisfied: soupsieve>1.2 in /usr/local/lib/python3.11/dist-packages (from beautifulsoup4>=4.11.1->yfinance) (2.7)\n",
            "Requirement already satisfied: typing-extensions>=4.0.0 in /usr/local/lib/python3.11/dist-packages (from beautifulsoup4>=4.11.1->yfinance) (4.14.0)\n",
            "Requirement already satisfied: cffi>=1.12.0 in /usr/local/lib/python3.11/dist-packages (from curl_cffi>=0.7->yfinance) (1.17.1)\n",
            "Requirement already satisfied: certifi>=2024.2.2 in /usr/local/lib/python3.11/dist-packages (from curl_cffi>=0.7->yfinance) (2025.6.15)\n",
            "Requirement already satisfied: python-dateutil>=2.8.2 in /usr/local/lib/python3.11/dist-packages (from pandas>=1.3.0->yfinance) (2.9.0.post0)\n",
            "Requirement already satisfied: tzdata>=2022.7 in /usr/local/lib/python3.11/dist-packages (from pandas>=1.3.0->yfinance) (2025.2)\n",
            "Requirement already satisfied: charset-normalizer<4,>=2 in /usr/local/lib/python3.11/dist-packages (from requests>=2.31->yfinance) (3.4.2)\n",
            "Requirement already satisfied: idna<4,>=2.5 in /usr/local/lib/python3.11/dist-packages (from requests>=2.31->yfinance) (3.10)\n",
            "Requirement already satisfied: urllib3<3,>=1.21.1 in /usr/local/lib/python3.11/dist-packages (from requests>=2.31->yfinance) (2.4.0)\n",
            "Requirement already satisfied: pycparser in /usr/local/lib/python3.11/dist-packages (from cffi>=1.12.0->curl_cffi>=0.7->yfinance) (2.22)\n",
            "Requirement already satisfied: six>=1.5 in /usr/local/lib/python3.11/dist-packages (from python-dateutil>=2.8.2->pandas>=1.3.0->yfinance) (1.17.0)\n"
          ]
        },
        {
          "output_type": "stream",
          "name": "stderr",
          "text": [
            "/tmp/ipython-input-1-1742335757.py:43: FutureWarning: The behavior of DataFrame concatenation with empty or all-NA entries is deprecated. In a future version, this will no longer exclude empty or all-NA columns when determining the result dtypes. To retain the old behavior, exclude the relevant entries before the concat operation.\n",
            "  fundamentals = pd.concat([fundamentals, row], ignore_index=True)\n"
          ]
        },
        {
          "output_type": "stream",
          "name": "stdout",
          "text": [
            "Fundamental Screener Table:\n",
            "      Stock   Sector  Market Cap (₹ Cr)  P/E Ratio  EPS (INR)  \\\n",
            "0       TCS       IT         1237314.44      25.46     134.33   \n",
            "1      INFY       IT          680007.78      25.15      65.23   \n",
            "2  HDFCBANK  Banking         1525375.36      21.53      92.40   \n",
            "3  RELIANCE   Energy         2066818.79      29.69      51.45   \n",
            "4       ITC     FMCG          516409.42      26.19      15.75   \n",
            "\n",
            "   Book Value (INR)  \n",
            "0            261.89  \n",
            "1              2.70  \n",
            "2            682.19  \n",
            "3            623.05  \n",
            "4             55.96  \n",
            "Data saved to 'Day9_Fundamental_Screener.csv'\n"
          ]
        }
      ],
      "source": [
        "!pip install yfinance\n",
        "\n",
        "import yfinance as yf\n",
        "import pandas as pd\n",
        "\n",
        "portfolio = [\"TCS.NS\", \"INFY.NS\", \"HDFCBANK.NS\", \"RELIANCE.NS\", \"ITC.NS\"]\n",
        "\n",
        "fundamentals = pd.DataFrame(columns=[\n",
        "    \"Stock\", \"Sector\", \"Market Cap (₹ Cr)\", \"P/E Ratio\", \"EPS (INR)\", \"Book Value (INR)\"\n",
        "])\n",
        "\n",
        "sector_map = {\n",
        "    \"TCS.NS\": \"IT\",\n",
        "    \"INFY.NS\": \"IT\",\n",
        "    \"HDFCBANK.NS\": \"Banking\",\n",
        "    \"RELIANCE.NS\": \"Energy\",\n",
        "    \"ITC.NS\": \"FMCG\"\n",
        "}\n",
        "\n",
        "for ticker in portfolio:\n",
        "    stock = yf.Ticker(ticker)\n",
        "    info = stock.info\n",
        "\n",
        "    market_cap = info.get(\"marketCap\", None)\n",
        "    pe_ratio = info.get(\"trailingPE\", None)\n",
        "    eps = info.get(\"trailingEps\", None)\n",
        "    book_value = info.get(\"bookValue\", None)\n",
        "\n",
        "    if market_cap:\n",
        "        market_cap_inr = round(market_cap / 1e7, 2)\n",
        "    else:\n",
        "        market_cap_inr = \"N/A\"\n",
        "\n",
        "    row = pd.DataFrame([{\n",
        "        \"Stock\": ticker.replace(\".NS\", \"\"),\n",
        "        \"Sector\": sector_map.get(ticker, \"Unknown\"),\n",
        "        \"Market Cap (₹ Cr)\": market_cap_inr,\n",
        "        \"P/E Ratio\": round(pe_ratio, 2) if pe_ratio else \"N/A\",\n",
        "        \"EPS (INR)\": round(eps, 2) if eps else \"N/A\",\n",
        "        \"Book Value (INR)\": round(book_value, 2) if book_value else \"N/A\"\n",
        "    }])\n",
        "\n",
        "    fundamentals = pd.concat([fundamentals, row], ignore_index=True)\n",
        "\n",
        "print(\"Fundamental Screener Table:\")\n",
        "print(fundamentals)\n",
        "\n",
        "fundamentals.to_csv(\"Day9_Fundamental_Screener.csv\", index=False)\n",
        "print(\"Data saved to 'Day9_Fundamental_Screener.csv'\")"
      ]
    }
  ]
}