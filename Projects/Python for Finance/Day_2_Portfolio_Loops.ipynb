{
  "nbformat": 4,
  "nbformat_minor": 0,
  "metadata": {
    "colab": {
      "provenance": []
    },
    "kernelspec": {
      "name": "python3",
      "display_name": "Python 3"
    },
    "language_info": {
      "name": "python"
    }
  },
  "cells": [
    {
      "cell_type": "code",
      "execution_count": 3,
      "metadata": {
        "colab": {
          "base_uri": "https://localhost:8080/"
        },
        "id": "faNwlqgTJqyL",
        "outputId": "8d7e9fd0-60cb-4377-d2ce-9e34bfebf1d8"
      },
      "outputs": [
        {
          "output_type": "stream",
          "name": "stdout",
          "text": [
            "My Stock Portfolio:\n",
            "- TCS\n",
            "- INFY\n",
            "- HDFCBANK\n",
            "- RELIANCE\n",
            "- ITC\n",
            "\n",
            "Portfolio Returns:\n",
            "TCS : 12.0 %\n",
            "INFY : 8.0 %\n",
            "HDFCBANK : -2.0 %\n",
            "RELIANCE : 15.0 %\n",
            "ITC : 5.0 %\n",
            "\n",
            "Average Portfolio Return: 7.6 %\n"
          ]
        }
      ],
      "source": [
        "# Day 2: Lists, Loops & Portfolio Logic\n",
        "\n",
        "# -----------------------------\n",
        "# Create a List of Stock Names (Your Portfolio)\n",
        "# -----------------------------\n",
        "\n",
        "portfolio = [\"TCS\", \"INFY\", \"HDFCBANK\", \"RELIANCE\", \"ITC\"]\n",
        "\n",
        "print(\"My Stock Portfolio:\")\n",
        "for stock in portfolio:\n",
        "    print(\"-\", stock)\n",
        "\n",
        "# -----------------------------\n",
        "# Simulate Dummy Returns for Each Stock\n",
        "# -----------------------------\n",
        "\n",
        "# Example return values: 12%, 8%, -2%, 15%, 5%\n",
        "returns = [0.12, 0.08, -0.02, 0.15, 0.05]\n",
        "\n",
        "print(\"\\nPortfolio Returns:\")\n",
        "for i in range(len(portfolio)):\n",
        "    stock_name = portfolio[i]\n",
        "    stock_return = returns[i]\n",
        "    print(stock_name, \":\", round(stock_return * 100, 2), \"%\")\n",
        "\n",
        "# -----------------------------\n",
        "# Calculate Average Portfolio Return\n",
        "# -----------------------------\n",
        "\n",
        "total_return = sum(returns)\n",
        "average_return = total_return / len(returns)\n",
        "\n",
        "print(\"\\nAverage Portfolio Return:\", round(average_return * 100, 2), \"%\")\n",
        "\n",
        "# -----------------------------\n",
        "# Practice Task\n",
        "# -----------------------------\n",
        "# Try adding more stocks and returns below 👇\n",
        "\n",
        "# Example:\n",
        "# portfolio.append(\"SBIN\")\n",
        "# returns"
      ]
    }
  ]
}