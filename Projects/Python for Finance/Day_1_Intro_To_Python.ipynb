{
  "nbformat": 4,
  "nbformat_minor": 0,
  "metadata": {
    "colab": {
      "provenance": []
    },
    "kernelspec": {
      "name": "python3",
      "display_name": "Python 3"
    },
    "language_info": {
      "name": "python"
    }
  },
  "cells": [
    {
      "cell_type": "code",
      "execution_count": null,
      "metadata": {
        "id": "mXdqg8K2BtDf"
      },
      "outputs": [],
      "source": [
        "Day 1: Introduction to Python for Finance\n",
        "\n",
        "✅ Basic Math Operations\n",
        "\n",
        "print(\"--- Basic Math ---\") a = 10 b = 5 print(\"Addition:\", a + b) print(\"Subtraction:\", a - b) print(\"Multiplication:\", a * b) print(\"Division:\", a / b)\n",
        "\n",
        "✅ Variables and Data Types\n",
        "\n",
        "print(\"\\n--- Variables and Data Types ---\") name = \"Ankur\" is_cfa_candidate = True revenue = 150000.0 years = 5\n",
        "\n",
        "print(\"Name:\", name) print(\"CFA Candidate:\", is_cfa_candidate) print(\"Revenue:\", revenue) print(\"Years:\", years)\n",
        "\n",
        "✅ Create a Simple Function\n",
        "\n",
        "def calculate_future_value(cashflow, growth_rate, years): return cashflow * ((1 + growth_rate) ** years)\n",
        "\n",
        "print(\"\\n--- Future Value Calculation ---\") result = calculate_future_value(100000, 0.08, 5) print(\"Future Value of 1L at 8% for 5 years:\", result)\n",
        "\n",
        "✅ Practice Task (for you to try!)\n",
        "\n",
        "Change the values and try to calculate future value for your choice of numbers\n",
        "\n",
        "✅ Next Up (Tomorrow)\n",
        "\n",
        "- Lists and Loops\n",
        "\n",
        "- Numpy Basics\n",
        "\n",
        "- Start using yfinance to pull stock data\n",
        "\n",
        "🧠 Tip: You can run this entire file in Google Colab\n",
        "\n",
        "After uploading it to GitHub, click \"Open in Colab\" to test it live"
      ]
    }
  ]
}